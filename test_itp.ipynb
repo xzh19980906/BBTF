{
 "cells": [
  {
   "cell_type": "code",
   "execution_count": 8,
   "id": "3c1b4f52-819e-4c63-8701-ab10523bbd04",
   "metadata": {},
   "outputs": [],
   "source": [
    "import tensorflow as tf\n",
    "import tensorflow_probability as tfp\n",
    "import matplotlib.pyplot as plt\n",
    "import numpy as np"
   ]
  },
  {
   "cell_type": "code",
   "execution_count": 14,
   "id": "0918ce05-8b4e-4967-8c7a-a59ba8590039",
   "metadata": {},
   "outputs": [],
   "source": [
    "class Linear1D_LinearGrid():\n",
    "    def __init__(self, values, binning):\n",
    "        \"\"\"\n",
    "        values  : tensor-like with shape (N,), as the reference values\n",
    "        binning : [lower, upper, n_points]\n",
    "        \"\"\"\n",
    "        self.ref_values = tf.convert_to_tensor(values, dtype=tf.float32)\n",
    "        self.lower, self.upper, self.n_points = binning\n",
    "    \n",
    "    def __call__(self, *args, **kwargs):\n",
    "        return self.interp(*args, **kwargs)\n",
    "    \n",
    "    def interp(self, points):\n",
    "        \"\"\"\n",
    "        points : tensor-like with shape (N, ), as the points to be interpolated.\n",
    "        \n",
    "        return : interpolated values at the points with shape (N,), weighted by the inverse of distance to 2^D nearest neighbors. \n",
    "        \"\"\"\n",
    "        points = tf.convert_to_tensor(points, dtype=tf.float32)\n",
    "        return tfp.math.interp_regular_1d_grid(points, self.lower, self.upper, self.ref_values, fill_value='constant_extension')"
   ]
  },
  {
   "cell_type": "code",
   "execution_count": null,
   "id": "cdab6666-ae16-4fb5-b4d1-7c36ec34717e",
   "metadata": {},
   "outputs": [],
   "source": []
  },
  {
   "cell_type": "code",
   "execution_count": null,
   "id": "9e6aa397-748b-43f6-8127-9694ffa01fdd",
   "metadata": {},
   "outputs": [],
   "source": []
  },
  {
   "cell_type": "code",
   "execution_count": 17,
   "id": "f5c3685c-2873-4e34-94e2-56870f16b12b",
   "metadata": {},
   "outputs": [],
   "source": [
    "x = np.linspace(0, 5, 30)\n",
    "y = np.cos(x)"
   ]
  },
  {
   "cell_type": "code",
   "execution_count": 19,
   "id": "bd7e8fa2-786c-4623-b597-b54b5d7fc6b2",
   "metadata": {},
   "outputs": [
    {
     "data": {
      "image/png": "[encoded data removed]",
      "text/plain": [
       "<Figure size 432x288 with 1 Axes>"
      ]
     },
     "metadata": {
      "needs_background": "light"
     },
     "output_type": "display_data"
    }
   ],
   "source": [
    "itpf = Linear1D_LinearGrid(y, [0, 5, 30])\n",
    "\n",
    "xx = np.linspace(-1, 6, 330)\n",
    "yy = itpf(xx)\n",
    "\n",
    "plt.scatter(x, y)\n",
    "plt.plot(xx, yy)\n",
    "# plt.xlim(4, 6)\n",
    "plt.show()"
   ]
  },
  {
   "cell_type": "code",
   "execution_count": null,
   "id": "e549237b-bb8e-4462-8ad8-99337ebe00c8",
   "metadata": {},
   "outputs": [],
   "source": []
  },
  {
   "cell_type": "code",
   "execution_count": null,
   "id": "2a878000-37c0-471b-a4dd-348b9f8b613c",
   "metadata": {},
   "outputs": [],
   "source": []
  },
  {
   "cell_type": "code",
   "execution_count": null,
   "id": "5ae0de6c-2352-450c-a930-b2b36b686685",
   "metadata": {},
   "outputs": [],
   "source": []
  }
 ],
 "metadata": {
  "kernelspec": {
   "display_name": "Python 3 (ipykernel)",
   "language": "python",
   "name": "python3"
  },
  "language_info": {
   "codemirror_mode": {
    "name": "ipython",
    "version": 3
   },
   "file_extension": ".py",
   "mimetype": "text/x-python",
   "name": "python",
   "nbconvert_exporter": "python",
   "pygments_lexer": "ipython3",
   "version": "3.10.3"
  }
 },
 "nbformat": 4,
 "nbformat_minor": 5
}
